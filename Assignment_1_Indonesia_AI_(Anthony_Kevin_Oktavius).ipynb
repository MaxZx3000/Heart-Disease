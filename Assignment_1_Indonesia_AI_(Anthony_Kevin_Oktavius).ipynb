{
  "nbformat": 4,
  "nbformat_minor": 0,
  "metadata": {
    "colab": {
      "name": "Assignment 1 Indonesia AI (Anthony Kevin Oktavius).ipynb",
      "provenance": [],
      "authorship_tag": "ABX9TyM7ZzkmzhsKWw+jsJiCqH99",
      "include_colab_link": true
    },
    "kernelspec": {
      "name": "python3",
      "display_name": "Python 3"
    },
    "language_info": {
      "name": "python"
    }
  },
  "cells": [
    {
      "cell_type": "markdown",
      "metadata": {
        "id": "view-in-github",
        "colab_type": "text"
      },
      "source": [
        "<a href=\"https://colab.research.google.com/github/MaxZx3000/Heart-Disease/blob/main/Assignment_1_Indonesia_AI_(Anthony_Kevin_Oktavius).ipynb\" target=\"_parent\"><img src=\"https://colab.research.google.com/assets/colab-badge.svg\" alt=\"Open In Colab\"/></a>"
      ]
    },
    {
      "cell_type": "code",
      "execution_count": 2,
      "metadata": {
        "id": "wtVdfmRHr_Qy"
      },
      "outputs": [],
      "source": [
        "import numpy as np\n",
        "import tensorflow as tf\n",
        "import pandas as pd\n",
        "from IPython import display"
      ]
    },
    {
      "cell_type": "markdown",
      "source": [
        "**Membuat Matplotlib menggunakan SVG untuk Menampilkan Gambar**\n",
        "\n",
        "SVG adalah singkatan dari Scalable Vector Graphics. SVG adalah format gambar berbasis vektor. Ketika menggunakan SVG, gambar akan ditampilkan dalam resolusi yang lebih tinggi dibandingkan dengan JPEG.\n",
        "\n",
        "Akan tetapi, matplotlib menggunakan JPEG untuk menampilkan gambar. Untuk menggunakan SVG, kita bisa menggunakan fungsi dari IPython bernama set_matplotlib_formats('svg')\n"
      ],
      "metadata": {
        "id": "yjVS-70txynB"
      }
    },
    {
      "cell_type": "code",
      "source": [
        "display.set_matplotlib_formats('svg')"
      ],
      "metadata": {
        "id": "Ar1yiPi1xxgg"
      },
      "execution_count": 4,
      "outputs": []
    }
  ]
}